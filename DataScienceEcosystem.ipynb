{
 "cells": [
  {
   "cell_type": "markdown",
   "id": "75a29a30-8158-436d-ace1-0220975ef375",
   "metadata": {},
   "source": [
    "# Data Science Tools and Ecosystem using H1 style heading"
   ]
  },
  {
   "cell_type": "markdown",
   "id": "8ed1e775-e5b1-4de0-b27c-99c6571605e9",
   "metadata": {},
   "source": [
    "In this notebook, Data Science Tools and Ecosystem are summarized"
   ]
  },
  {
   "cell_type": "markdown",
   "id": "06d0a24c-7a8f-459a-bb87-b7a4a1dc2249",
   "metadata": {},
   "source": [
    "**Objectives**\n",
    "\n",
    "* List popular languages for Data Science\n",
    "* List popular liabraries for Data Science\n",
    "* List popular Data Science tools\n",
    "* Show differences between ordered and unordered lists"
   ]
  },
  {
   "cell_type": "markdown",
   "id": "f97a34b4-948c-4c3d-9cba-4794804293ac",
   "metadata": {},
   "source": [
    "Some of the popular languages that Data Scientists use are:\n",
    "\n",
    "1. Python\n",
    "2. R\n",
    "3. Julia\n",
    "4. Java"
   ]
  },
  {
   "cell_type": "markdown",
   "id": "eda63fb8-a63d-4b85-8c94-63916417db3a",
   "metadata": {},
   "source": [
    "Some of the commonly used libraries by Data Scientists include:\n",
    "\n",
    "1. TensorFlow (Python)\n",
    "2. Matpotlib (Python)\n",
    "3. NumPy (Python)\n",
    "4. Keras (Python)\n",
    "5. dplyr (R)\n",
    "6. ggplot2 (R)\n",
    "7. tidyr (r)"
   ]
  },
  {
   "cell_type": "markdown",
   "id": "c83b7762-40f8-4bf8-adb8-710f32c84035",
   "metadata": {},
   "source": [
    "| Data Science Tools |\n",
    "| ------------------- |\n",
    "| Apache Spark|\n",
    "|Apache Hadoop|\n",
    "| R Studio|\n",
    "\n"
   ]
  },
  {
   "cell_type": "markdown",
   "id": "588c4517-9df7-4ffc-b415-021aec32bb5a",
   "metadata": {},
   "source": [
    "### Below are a few examples of evaluating arithmetic expressions in Python ."
   ]
  },
  {
   "cell_type": "code",
   "execution_count": 13,
   "id": "e15eb341-26e9-4696-89c3-97f371656416",
   "metadata": {},
   "outputs": [
    {
     "data": {
      "text/plain": [
       "17"
      ]
     },
     "execution_count": 13,
     "metadata": {},
     "output_type": "execute_result"
    }
   ],
   "source": [
    "# This is a simple arithemtic expression to multiply then add integers\n",
    "\n",
    "(3*4)+5"
   ]
  },
  {
   "cell_type": "code",
   "execution_count": 15,
   "id": "d1ead343-fdd4-44d2-9638-69a4d1bf761f",
   "metadata": {},
   "outputs": [
    {
     "data": {
      "text/plain": [
       "33.333333333333336"
      ]
     },
     "execution_count": 15,
     "metadata": {},
     "output_type": "execute_result"
    }
   ],
   "source": [
    "# This will convert 200 minutes into hours by dividing by 60\n",
    "\n",
    "200/6"
   ]
  },
  {
   "cell_type": "markdown",
   "id": "1b20c14e-3080-4713-9b3e-e83d5acbafd3",
   "metadata": {},
   "source": [
    "## Author\n",
    "Marta Krason"
   ]
  },
  {
   "cell_type": "code",
   "execution_count": null,
   "id": "f545f464-f802-4e33-9fa6-7789202f595a",
   "metadata": {},
   "outputs": [],
   "source": []
  }
 ],
 "metadata": {
  "kernelspec": {
   "display_name": "Python [conda env:base] *",
   "language": "python",
   "name": "conda-base-py"
  },
  "language_info": {
   "codemirror_mode": {
    "name": "ipython",
    "version": 3
   },
   "file_extension": ".py",
   "mimetype": "text/x-python",
   "name": "python",
   "nbconvert_exporter": "python",
   "pygments_lexer": "ipython3",
   "version": "3.12.7"
  }
 },
 "nbformat": 4,
 "nbformat_minor": 5
}
